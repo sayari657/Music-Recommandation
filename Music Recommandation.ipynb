{
 "cells": [
  {
   "attachments": {},
   "cell_type": "markdown",
   "id": "8a7643f5",
   "metadata": {},
   "source": [
    "# Music Recomandation"
   ]
  },
  {
   "cell_type": "code",
   "execution_count": null,
   "id": "8860c12a",
   "metadata": {
    "scrolled": true
   },
   "outputs": [],
   "source": [
    "import numpy as np\n",
    "import pandas as pd"
   ]
  },
  {
   "cell_type": "code",
   "execution_count": null,
   "id": "30cc055d",
   "metadata": {
    "scrolled": true
   },
   "outputs": [],
   "source": [
    "df = pd.read_csv(r\"C:\\Users\\MSI\\Downloads\\ex.csv\")\n",
    "df"
   ]
  },
  {
   "cell_type": "code",
   "execution_count": null,
   "id": "140885cf",
   "metadata": {
    "scrolled": true
   },
   "outputs": [],
   "source": [
    "df.isnull().sum()"
   ]
  },
  {
   "cell_type": "code",
   "execution_count": null,
   "id": "1a10bdfc",
   "metadata": {
    "scrolled": true
   },
   "outputs": [],
   "source": [
    "df.dropna(inplace=True)"
   ]
  },
  {
   "cell_type": "code",
   "execution_count": null,
   "id": "cceb3148",
   "metadata": {
    "scrolled": true
   },
   "outputs": [],
   "source": [
    "df.duplicated().sum()"
   ]
  },
  {
   "cell_type": "code",
   "execution_count": null,
   "id": "2d800b9d",
   "metadata": {
    "scrolled": true
   },
   "outputs": [],
   "source": [
    "df=df.drop_duplicates()"
   ]
  },
  {
   "cell_type": "code",
   "execution_count": null,
   "id": "7a8bbbca",
   "metadata": {
    "scrolled": true
   },
   "outputs": [],
   "source": [
    "df.duplicated().sum()"
   ]
  },
  {
   "cell_type": "code",
   "execution_count": null,
   "id": "225fad5e",
   "metadata": {
    "scrolled": true
   },
   "outputs": [],
   "source": [
    "df.shape"
   ]
  },
  {
   "cell_type": "code",
   "execution_count": null,
   "id": "37d916ba",
   "metadata": {
    "scrolled": true
   },
   "outputs": [],
   "source": [
    "df.head()"
   ]
  },
  {
   "cell_type": "code",
   "execution_count": null,
   "id": "6925ea16",
   "metadata": {
    "scrolled": true
   },
   "outputs": [],
   "source": [
    "df['Song-Name']"
   ]
  },
  {
   "cell_type": "code",
   "execution_count": null,
   "id": "94ed2867",
   "metadata": {
    "scrolled": true
   },
   "outputs": [],
   "source": [
    "df['User-Rating']"
   ]
  },
  {
   "cell_type": "code",
   "execution_count": null,
   "id": "f0b5cfa5",
   "metadata": {
    "scrolled": false
   },
   "outputs": [],
   "source": [
    "l=[]\n",
    "for i in df['User-Rating']:\n",
    "    l.append(i[:3])\n",
    "l"
   ]
  },
  {
   "cell_type": "code",
   "execution_count": null,
   "id": "3b7ca9c5",
   "metadata": {
    "scrolled": true
   },
   "outputs": [],
   "source": [
    "df['User-Rating']=l\n",
    "df"
   ]
  },
  {
   "cell_type": "code",
   "execution_count": null,
   "id": "459fdcfb",
   "metadata": {
    "scrolled": true
   },
   "outputs": [],
   "source": [
    "df['Album/Movie']=df['Album/Movie'].str.replace(' ','')\n",
    "df['Singer/Artists']=df['Singer/Artists'].str.replace(' ','')\n",
    "df"
   ]
  },
  {
   "cell_type": "code",
   "execution_count": null,
   "id": "a1fc3fd9",
   "metadata": {
    "scrolled": true
   },
   "outputs": [],
   "source": [
    "df['Singer/Artists']=df['Singer/Artists'].str.replace(',','')\n",
    "df"
   ]
  },
  {
   "cell_type": "code",
   "execution_count": null,
   "id": "441c92e7",
   "metadata": {
    "scrolled": true
   },
   "outputs": [],
   "source": [
    "df['tags']=df['Singer/Artists']+''+df['Genre']+''+df['Album/Movie']+''+df['User-Rating']\n",
    "df['tags'][0]"
   ]
  },
  {
   "cell_type": "code",
   "execution_count": null,
   "id": "4d7ec16f",
   "metadata": {
    "scrolled": true
   },
   "outputs": [],
   "source": [
    "new_df=df[['Song-Name','tags']]\n",
    "new_df"
   ]
  },
  {
   "cell_type": "code",
   "execution_count": null,
   "id": "5f97a846",
   "metadata": {
    "scrolled": true
   },
   "outputs": [],
   "source": [
    "new_df['tags']=new_df['tags'].apply(lambda x:x.lower())\n",
    "new_df"
   ]
  },
  {
   "cell_type": "code",
   "execution_count": null,
   "id": "683a15cd",
   "metadata": {
    "scrolled": true
   },
   "outputs": [],
   "source": [
    "from sklearn.feature_extraction.text import CountVectorizer\n",
    "cv = CountVectorizer(max_features=2000)"
   ]
  },
  {
   "cell_type": "code",
   "execution_count": null,
   "id": "c6aa56c9",
   "metadata": {
    "scrolled": true
   },
   "outputs": [],
   "source": [
    "vectors=cv.fit_transform(new_df['tags']).toarray()"
   ]
  },
  {
   "cell_type": "code",
   "execution_count": null,
   "id": "6999e0d0",
   "metadata": {
    "scrolled": true
   },
   "outputs": [],
   "source": [
    "vectors.shape"
   ]
  },
  {
   "cell_type": "code",
   "execution_count": null,
   "id": "5eae546e",
   "metadata": {
    "scrolled": true
   },
   "outputs": [],
   "source": [
    "\n",
    "\n",
    "# Obtenir les noms des caractéristiques\n",
    "feature_names = cv.get_feature_names_out()\n",
    "print(feature_names)"
   ]
  },
  {
   "cell_type": "code",
   "execution_count": null,
   "id": "c4fa2944",
   "metadata": {
    "scrolled": true
   },
   "outputs": [],
   "source": [
    "from sklearn.metrics.pairwise import cosine_similarity\n",
    "similarity=cosine_similarity(vectors)"
   ]
  },
  {
   "cell_type": "code",
   "execution_count": null,
   "id": "3421552a",
   "metadata": {
    "scrolled": false
   },
   "outputs": [],
   "source": [
    "sorted(list(enumerate(similarity[0])),reverse=True,key=lambda x:x[1])"
   ]
  },
  {
   "cell_type": "code",
   "execution_count": null,
   "id": "ae1b6d42",
   "metadata": {
    "scrolled": true
   },
   "outputs": [],
   "source": [
    "new_df.rename(columns={'Song-Name':'title'},inplace=True)"
   ]
  },
  {
   "cell_type": "code",
   "execution_count": null,
   "id": "b9ba50b6",
   "metadata": {
    "scrolled": true
   },
   "outputs": [],
   "source": [
    "def recommend(music):\n",
    "    music_index=new_df[new_df['title']==music].index[0]\n",
    "    distances=similarity[music_index]\n",
    "    music_list=sorted(list(enumerate(distances)),reverse=True,key=lambda x:x[1])[1:6]\n",
    "    for i in music_list:\n",
    "        print(new_df.iloc[i[0]].title)"
   ]
  },
  {
   "cell_type": "code",
   "execution_count": null,
   "id": "f2ddf252",
   "metadata": {
    "scrolled": true
   },
   "outputs": [],
   "source": [
    "recommend('Proper Patola')"
   ]
  },
  {
   "cell_type": "code",
   "execution_count": null,
   "id": "f5497104",
   "metadata": {
    "scrolled": true
   },
   "outputs": [],
   "source": [
    "df.head(50)"
   ]
  },
  {
   "cell_type": "code",
   "execution_count": null,
   "id": "65d4a53f",
   "metadata": {
    "scrolled": true
   },
   "outputs": [],
   "source": []
  }
 ],
 "metadata": {
  "kernelspec": {
   "display_name": "Python 3 (ipykernel)",
   "language": "python",
   "name": "python3"
  },
  "language_info": {
   "codemirror_mode": {
    "name": "ipython",
    "version": 3
   },
   "file_extension": ".py",
   "mimetype": "text/x-python",
   "name": "python",
   "nbconvert_exporter": "python",
   "pygments_lexer": "ipython3",
   "version": "3.11.5"
  },
  "widgets": {
   "application/vnd.jupyter.widget-state+json": {
    "state": {},
    "version_major": 2,
    "version_minor": 0
   }
  }
 },
 "nbformat": 4,
 "nbformat_minor": 5
}
